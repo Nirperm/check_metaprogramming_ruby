{
 "cells": [
  {
   "cell_type": "code",
   "execution_count": 1,
   "metadata": {
    "collapsed": false,
    "scrolled": true
   },
   "outputs": [
    {
     "name": "stdout",
     "output_type": "stream",
     "text": [
      "true\n",
      "\n",
      "\n",
      "Class\n",
      "\n",
      "\n",
      "#<Class:#<Class:IO>>\n",
      "\n",
      "\n",
      "#<Class:#<Class:IO>>\n",
      "\n",
      "\n",
      "#<Class:IO>\n",
      "\n",
      "\n",
      "Class\n",
      "\n",
      "\n",
      "true\n",
      "\n",
      "\n",
      "[#<Class:File>, #<Class:IO>, #<Class:Object>, #<Class:BasicObject>, Class, Module, Object, PP::ObjectMixin, JSON::Ext::Generator::GeneratorMethods::Object, Kernel, BasicObject]\n",
      "\n",
      "\n",
      "hogehoge\n",
      "hogehoge\n"
     ]
    }
   ],
   "source": [
    "class File\n",
    "  class << self\n",
    "    puts self.singleton_class?, \"\\n\"\n",
    "\n",
    "    puts self.singleton_class.class, \"\\n\"\n",
    "\n",
    "    puts self.singleton_class.superclass, \"\\n\"\n",
    "\n",
    "    puts self.superclass.singleton_class, \"\\n\"\n",
    "\n",
    "    puts self.superclass, \"\\n\"\n",
    "\n",
    "    puts self.class, \"\\n\"\n",
    "    \n",
    "    puts self.superclass.singleton_class  == self.superclass.singleton_class, \"\\n\"\n",
    "\n",
    "    puts self.ancestors, \"\\n\"\n",
    "    def hoge\n",
    "      \"hogehoge\"\n",
    "    end\n",
    "  end\n",
    "end\n",
    "\n",
    "class Huga < File; end\n",
    "\n",
    "puts File.hoge\n",
    "puts Huga.hoge # サブクラスからでもクラスメソッドを呼び出すことが可能になる"
   ]
  },
  {
   "cell_type": "markdown",
   "metadata": {},
   "source": [
    "* Rubyは、クラス、特異クラス、スーパクラスを構成する。\n",
    "* クラスの特異クラスのスーパクラスはクラスのスーパクラスの特異クラス"
   ]
  },
  {
   "cell_type": "code",
   "execution_count": 3,
   "metadata": {
    "collapsed": false
   },
   "outputs": [
    {
     "name": "stdout",
     "output_type": "stream",
     "text": [
      "true\n",
      "\n",
      "\n",
      "true\n",
      "\n",
      "\n",
      "1\n",
      "\n",
      "\n",
      "1\n",
      "\n",
      "\n"
     ]
    }
   ],
   "source": [
    "require 'singleton'\n",
    "class File\n",
    "  include Singleton\n",
    "\n",
    "  attr_accessor :foo\n",
    "\n",
    "  def initialize\n",
    "    @foo = 0\n",
    "  end\n",
    "end\n",
    "\n",
    "a = File.instance\n",
    "b = File.instance\n",
    "\n",
    "puts a === b, \"\\n\"\n",
    "\n",
    "puts a.object_id == b.object_id, \"\\n\"\n",
    "\n",
    "a.foo = 1\n",
    "\n",
    "puts b.foo , \"\\n\"\n",
    "\n",
    "puts a.foo, \"\\n\""
   ]
  },
  {
   "cell_type": "markdown",
   "metadata": {},
   "source": [
    "## 参考\n",
    "* [Open Singleton Class and New scope](https://gist.github.com/jamesyang124/9216074)\n",
    "* [module Singleton](http://docs.ruby-lang.org/ja/2.2.0/class/Singleton.html)"
   ]
  }
 ],
 "metadata": {
  "kernelspec": {
   "display_name": "Ruby 2.2.3",
   "language": "ruby",
   "name": "ruby"
  },
  "language_info": {
   "file_extension": ".rb",
   "mimetype": "application/x-ruby",
   "name": "ruby",
   "version": "2.2.3"
  }
 },
 "nbformat": 4,
 "nbformat_minor": 0
}
