{
 "cells": [
  {
   "cell_type": "code",
   "execution_count": null,
   "metadata": {
    "collapsed": false,
    "scrolled": true
   },
   "outputs": [],
   "source": [
    "class File\n",
    "  class << self\n",
    "    puts self.superclass, \"\\n\"\n",
    "    puts self.ancestors\n",
    "  end\n",
    "end"
   ]
  },
  {
   "cell_type": "code",
   "execution_count": null,
   "metadata": {
    "collapsed": false
   },
   "outputs": [],
   "source": [
    "class File\n",
    "  class << self\n",
    "    def hoge\n",
    "      self\n",
    "    end\n",
    "  end\n",
    "end\n",
    "\n",
    "puts \"0\" * 10\n",
    "puts File.ancestors\n",
    "puts \"0\" * 10, \"\\n\"\n",
    "\n",
    "puts \"1\" * 10\n",
    "puts File.class\n",
    "puts \"1\" * 10, \"\\n\"\n",
    "\n",
    "puts \"2\" * 10\n",
    "puts File.superclass\n",
    "puts \"2\" * 10, \"\\n\"\n",
    "\n",
    "puts \"3\" * 10\n",
    "puts File.hoge.class\n",
    "puts \"3\" * 10, \"\\n\"\n",
    "\n",
    "puts \"4\" * 10\n",
    "puts File.hoge.superclass\n",
    "puts \"4\" * 10, \"\\n\"\n",
    "\n",
    "\n",
    "puts \"5\" * 10\n",
    "puts File.hoge.ancestors\n",
    "puts \"5\" * 10, \"\\n\"\n"
   ]
  },
  {
   "cell_type": "code",
   "execution_count": null,
   "metadata": {
    "collapsed": false
   },
   "outputs": [],
   "source": [
    "require 'singleton'\n",
    "class File\n",
    "  include Singleton\n",
    "\n",
    "  attr_accessor :foo\n",
    "\n",
    "  def initialize\n",
    "    @foo = 0\n",
    "  end\n",
    "end\n",
    "\n",
    "a = File.instance\n",
    "b = File.instance\n",
    "puts a === b\n",
    "puts a.object_id == b.object_id\n",
    "a.foo = 1\n",
    "puts b.foo # ==> 1\n",
    "\n",
    "puts b.class\n",
    "puts b.superclass"
   ]
  },
  {
   "cell_type": "code",
   "execution_count": null,
   "metadata": {
    "collapsed": false,
    "scrolled": true
   },
   "outputs": [],
   "source": [
    "class File\n",
    "  class << self\n",
    "    def hoge\n",
    "      \"a\"\n",
    "    end\n",
    "  end\n",
    "end\n",
    "\n",
    "puts \"0\" * 10\n",
    "puts File.ancestors\n",
    "puts \"0\" * 10, \"\\n\"\n",
    "\n",
    "puts \"1\" * 10\n",
    "puts File.class\n",
    "puts \"1\" * 10, \"\\n\"\n",
    "\n",
    "puts \"2\" * 10\n",
    "puts File.superclass\n",
    "puts \"2\" * 10, \"\\n\"\n",
    "\n",
    "puts \"3\" * 10\n",
    "puts File.hoge.class\n",
    "puts \"3\" * 10, \"\\n\"\n",
    "\n",
    "puts \"4\" * 10\n",
    "puts File.hoge.superclass\n",
    "puts \"4\" * 10, \"\\n\"\n",
    "\n",
    "\n",
    "puts \"5\" * 10\n",
    "puts File.hoge.ancestors\n",
    "puts \"5\" * 10, \"\\n\""
   ]
  },
  {
   "cell_type": "code",
   "execution_count": null,
   "metadata": {
    "collapsed": false
   },
   "outputs": [],
   "source": [
    "class File\n",
    "  class << self\n",
    "    def hoge\n",
    "      1\n",
    "    end\n",
    "  end\n",
    "end\n",
    "\n",
    "puts \"0\" * 10\n",
    "puts File.ancestors\n",
    "puts \"0\" * 10, \"\\n\"\n",
    "\n",
    "puts \"1\" * 10\n",
    "puts File.class\n",
    "puts \"1\" * 10, \"\\n\"\n",
    "\n",
    "puts \"2\" * 10\n",
    "puts File.superclass\n",
    "puts \"2\" * 10, \"\\n\"\n",
    "\n",
    "puts \"3\" * 10\n",
    "puts File.hoge.class\n",
    "puts \"3\" * 10, \"\\n\"\n",
    "\n",
    "puts \"4\" * 10\n",
    "puts File.hoge.superclass\n",
    "puts \"4\" * 10, \"\\n\"\n",
    "\n",
    "\n",
    "puts \"5\" * 10\n",
    "puts File.hoge.ancestors\n",
    "puts \"5\" * 10, \"\\n\""
   ]
  },
  {
   "cell_type": "code",
   "execution_count": null,
   "metadata": {
    "collapsed": false
   },
   "outputs": [],
   "source": [
    "require 'singleton'\n",
    "\n",
    "class File\n",
    "  include Singleton\n",
    "  attr_accessor :counter\n",
    "\n",
    "  def initialize\n",
    "    @counter = 0  # ここのコンテキストに依存する気がする？\n",
    "  end\n",
    "end\n",
    "\n",
    "obj1 = File.instance\n",
    "puts obj1.counter.class\n",
    "puts obj1.counter.superclass"
   ]
  },
  {
   "cell_type": "markdown",
   "metadata": {},
   "source": [
    "## 参考\n",
    "* [Open Singleton Class and New scope](https://gist.github.com/jamesyang124/9216074)\n",
    "* [module Singleton](http://docs.ruby-lang.org/ja/2.2.0/class/Singleton.html)"
   ]
  }
 ],
 "metadata": {
  "kernelspec": {
   "display_name": "Ruby 2.2.3",
   "language": "ruby",
   "name": "ruby"
  },
  "language_info": {
   "file_extension": ".rb",
   "mimetype": "application/x-ruby",
   "name": "ruby",
   "version": "2.2.3"
  }
 },
 "nbformat": 4,
 "nbformat_minor": 0
}
