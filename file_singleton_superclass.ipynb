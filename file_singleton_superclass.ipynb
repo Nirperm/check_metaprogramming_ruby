{
 "cells": [
  {
   "cell_type": "code",
   "execution_count": 1,
   "metadata": {
    "collapsed": false,
    "scrolled": true
   },
   "outputs": [
    {
     "name": "stdout",
     "output_type": "stream",
     "text": [
      "#<Class:IO>\n",
      "\n",
      "\n",
      "[#<Class:File>, #<Class:IO>, #<Class:Object>, #<Class:BasicObject>, Class, Module, Object, PP::ObjectMixin, JSON::Ext::Generator::GeneratorMethods::Object, Kernel, BasicObject]\n"
     ]
    }
   ],
   "source": [
    "class File\n",
    "  class << self\n",
    "    puts self.superclass, \"\\n\"\n",
    "    puts self.ancestors\n",
    "  end\n",
    "end"
   ]
  },
  {
   "cell_type": "code",
   "execution_count": 2,
   "metadata": {
    "collapsed": false
   },
   "outputs": [
    {
     "name": "stdout",
     "output_type": "stream",
     "text": [
      "0000000000\n",
      "[File, IO, File::Constants, Enumerable, Object, PP::ObjectMixin, JSON::Ext::Generator::GeneratorMethods::Object, Kernel, BasicObject]\n",
      "0000000000\n",
      "\n",
      "\n",
      "1111111111\n",
      "Class\n",
      "1111111111\n",
      "\n",
      "\n",
      "2222222222\n",
      "IO\n",
      "2222222222\n",
      "\n",
      "\n",
      "3333333333\n",
      "Class\n",
      "3333333333\n",
      "\n",
      "\n",
      "4444444444\n",
      "IO\n",
      "4444444444\n",
      "\n",
      "\n",
      "5555555555\n",
      "[File, IO, File::Constants, Enumerable, Object, PP::ObjectMixin, JSON::Ext::Generator::GeneratorMethods::Object, Kernel, BasicObject]\n",
      "5555555555\n",
      "\n",
      "\n"
     ]
    }
   ],
   "source": [
    "class File\n",
    "  class << self\n",
    "    def hoge\n",
    "      self\n",
    "    end\n",
    "  end\n",
    "end\n",
    "\n",
    "puts \"0\" * 10\n",
    "puts File.ancestors\n",
    "puts \"0\" * 10, \"\\n\"\n",
    "\n",
    "puts \"1\" * 10\n",
    "puts File.class\n",
    "puts \"1\" * 10, \"\\n\"\n",
    "\n",
    "puts \"2\" * 10\n",
    "puts File.superclass\n",
    "puts \"2\" * 10, \"\\n\"\n",
    "\n",
    "puts \"3\" * 10\n",
    "puts File.hoge.class\n",
    "puts \"3\" * 10, \"\\n\"\n",
    "\n",
    "puts \"4\" * 10\n",
    "puts File.hoge.superclass\n",
    "puts \"4\" * 10, \"\\n\"\n",
    "\n",
    "\n",
    "puts \"5\" * 10\n",
    "puts File.hoge.ancestors\n",
    "puts \"5\" * 10, \"\\n\"\n"
   ]
  },
  {
   "cell_type": "code",
   "execution_count": 3,
   "metadata": {
    "collapsed": false
   },
   "outputs": [
    {
     "name": "stdout",
     "output_type": "stream",
     "text": [
      "true\n",
      "true\n",
      "1\n",
      "File\n"
     ]
    },
    {
     "ename": "NoMethodError",
     "evalue": "undefined method `superclass' for #<File:0x007f9d3b29b870>",
     "output_type": "error",
     "traceback": [
      "\u001b[31mNoMethodError\u001b[0m: undefined method `superclass' for #<File:0x007f9d3b29b870>",
      "\u001b[37m(pry):58:in `<main>'\u001b[0m",
      "\u001b[37m/Users/kurt/.rbenv/versions/2.2.3/lib/ruby/gems/2.2.0/gems/pry-0.10.3/lib/pry/pry_instance.rb:355:in `eval'\u001b[0m",
      "\u001b[37m/Users/kurt/.rbenv/versions/2.2.3/lib/ruby/gems/2.2.0/gems/pry-0.10.3/lib/pry/pry_instance.rb:355:in `evaluate_ruby'\u001b[0m",
      "\u001b[37m/Users/kurt/.rbenv/versions/2.2.3/lib/ruby/gems/2.2.0/gems/pry-0.10.3/lib/pry/pry_instance.rb:323:in `handle_line'\u001b[0m",
      "\u001b[37m/Users/kurt/.rbenv/versions/2.2.3/lib/ruby/gems/2.2.0/gems/pry-0.10.3/lib/pry/pry_instance.rb:243:in `block (2 levels) in eval'\u001b[0m",
      "\u001b[37m/Users/kurt/.rbenv/versions/2.2.3/lib/ruby/gems/2.2.0/gems/pry-0.10.3/lib/pry/pry_instance.rb:242:in `catch'\u001b[0m",
      "\u001b[37m/Users/kurt/.rbenv/versions/2.2.3/lib/ruby/gems/2.2.0/gems/pry-0.10.3/lib/pry/pry_instance.rb:242:in `block in eval'\u001b[0m",
      "\u001b[37m/Users/kurt/.rbenv/versions/2.2.3/lib/ruby/gems/2.2.0/gems/pry-0.10.3/lib/pry/pry_instance.rb:241:in `catch'\u001b[0m",
      "\u001b[37m/Users/kurt/.rbenv/versions/2.2.3/lib/ruby/gems/2.2.0/gems/pry-0.10.3/lib/pry/pry_instance.rb:241:in `eval'\u001b[0m",
      "\u001b[37m/Users/kurt/.rbenv/versions/2.2.3/lib/ruby/gems/2.2.0/gems/iruby-0.2.8/lib/iruby/backend.rb:65:in `eval'\u001b[0m",
      "\u001b[37m/Users/kurt/.rbenv/versions/2.2.3/lib/ruby/gems/2.2.0/gems/iruby-0.2.8/lib/iruby/backend.rb:12:in `eval'\u001b[0m",
      "\u001b[37m/Users/kurt/.rbenv/versions/2.2.3/lib/ruby/gems/2.2.0/gems/iruby-0.2.8/lib/iruby/kernel.rb:87:in `execute_request'\u001b[0m",
      "\u001b[37m/Users/kurt/.rbenv/versions/2.2.3/lib/ruby/gems/2.2.0/gems/iruby-0.2.8/lib/iruby/kernel.rb:47:in `dispatch'\u001b[0m",
      "\u001b[37m/Users/kurt/.rbenv/versions/2.2.3/lib/ruby/gems/2.2.0/gems/iruby-0.2.8/lib/iruby/kernel.rb:37:in `run'\u001b[0m",
      "\u001b[37m/Users/kurt/.rbenv/versions/2.2.3/lib/ruby/gems/2.2.0/gems/iruby-0.2.8/lib/iruby/command.rb:70:in `run_kernel'\u001b[0m",
      "\u001b[37m/Users/kurt/.rbenv/versions/2.2.3/lib/ruby/gems/2.2.0/gems/iruby-0.2.8/lib/iruby/command.rb:34:in `run'\u001b[0m",
      "\u001b[37m/Users/kurt/.rbenv/versions/2.2.3/lib/ruby/gems/2.2.0/gems/iruby-0.2.8/bin/iruby:5:in `<top (required)>'\u001b[0m",
      "\u001b[37m/Users/kurt/.rbenv/versions/2.2.3/bin/iruby:23:in `load'\u001b[0m",
      "\u001b[37m/Users/kurt/.rbenv/versions/2.2.3/bin/iruby:23:in `<main>'\u001b[0m"
     ]
    }
   ],
   "source": [
    "require 'singleton'\n",
    "class File\n",
    "  include Singleton\n",
    "\n",
    "  attr_accessor :foo\n",
    "\n",
    "  def initialize\n",
    "    @foo = 0\n",
    "  end\n",
    "end\n",
    "\n",
    "a = File.instance\n",
    "b = File.instance\n",
    "puts a === b\n",
    "puts a.object_id == b.object_id\n",
    "a.foo = 1\n",
    "puts b.foo # ==> 1\n",
    "\n",
    "puts b.class\n",
    "puts b.superclass"
   ]
  },
  {
   "cell_type": "code",
   "execution_count": 4,
   "metadata": {
    "collapsed": false,
    "scrolled": true
   },
   "outputs": [
    {
     "name": "stdout",
     "output_type": "stream",
     "text": [
      "0000000000\n",
      "[File, Singleton, IO, File::Constants, Enumerable, Object, PP::ObjectMixin, JSON::Ext::Generator::GeneratorMethods::Object, Kernel, BasicObject]\n",
      "0000000000\n",
      "\n",
      "\n",
      "1111111111\n",
      "Class\n",
      "1111111111\n",
      "\n",
      "\n",
      "2222222222\n",
      "IO\n",
      "2222222222\n",
      "\n",
      "\n",
      "3333333333\n",
      "String\n",
      "3333333333\n",
      "\n",
      "\n",
      "4444444444\n"
     ]
    },
    {
     "ename": "NoMethodError",
     "evalue": "undefined method `superclass' for \"a\":String",
     "output_type": "error",
     "traceback": [
      "\u001b[31mNoMethodError\u001b[0m: undefined method `superclass' for \"a\":String",
      "\u001b[37m(pry):84:in `<main>'\u001b[0m",
      "\u001b[37m/Users/kurt/.rbenv/versions/2.2.3/lib/ruby/gems/2.2.0/gems/pry-0.10.3/lib/pry/pry_instance.rb:355:in `eval'\u001b[0m",
      "\u001b[37m/Users/kurt/.rbenv/versions/2.2.3/lib/ruby/gems/2.2.0/gems/pry-0.10.3/lib/pry/pry_instance.rb:355:in `evaluate_ruby'\u001b[0m",
      "\u001b[37m/Users/kurt/.rbenv/versions/2.2.3/lib/ruby/gems/2.2.0/gems/pry-0.10.3/lib/pry/pry_instance.rb:323:in `handle_line'\u001b[0m",
      "\u001b[37m/Users/kurt/.rbenv/versions/2.2.3/lib/ruby/gems/2.2.0/gems/pry-0.10.3/lib/pry/pry_instance.rb:243:in `block (2 levels) in eval'\u001b[0m",
      "\u001b[37m/Users/kurt/.rbenv/versions/2.2.3/lib/ruby/gems/2.2.0/gems/pry-0.10.3/lib/pry/pry_instance.rb:242:in `catch'\u001b[0m",
      "\u001b[37m/Users/kurt/.rbenv/versions/2.2.3/lib/ruby/gems/2.2.0/gems/pry-0.10.3/lib/pry/pry_instance.rb:242:in `block in eval'\u001b[0m",
      "\u001b[37m/Users/kurt/.rbenv/versions/2.2.3/lib/ruby/gems/2.2.0/gems/pry-0.10.3/lib/pry/pry_instance.rb:241:in `catch'\u001b[0m",
      "\u001b[37m/Users/kurt/.rbenv/versions/2.2.3/lib/ruby/gems/2.2.0/gems/pry-0.10.3/lib/pry/pry_instance.rb:241:in `eval'\u001b[0m",
      "\u001b[37m/Users/kurt/.rbenv/versions/2.2.3/lib/ruby/gems/2.2.0/gems/iruby-0.2.8/lib/iruby/backend.rb:65:in `eval'\u001b[0m",
      "\u001b[37m/Users/kurt/.rbenv/versions/2.2.3/lib/ruby/gems/2.2.0/gems/iruby-0.2.8/lib/iruby/backend.rb:12:in `eval'\u001b[0m",
      "\u001b[37m/Users/kurt/.rbenv/versions/2.2.3/lib/ruby/gems/2.2.0/gems/iruby-0.2.8/lib/iruby/kernel.rb:87:in `execute_request'\u001b[0m",
      "\u001b[37m/Users/kurt/.rbenv/versions/2.2.3/lib/ruby/gems/2.2.0/gems/iruby-0.2.8/lib/iruby/kernel.rb:47:in `dispatch'\u001b[0m",
      "\u001b[37m/Users/kurt/.rbenv/versions/2.2.3/lib/ruby/gems/2.2.0/gems/iruby-0.2.8/lib/iruby/kernel.rb:37:in `run'\u001b[0m",
      "\u001b[37m/Users/kurt/.rbenv/versions/2.2.3/lib/ruby/gems/2.2.0/gems/iruby-0.2.8/lib/iruby/command.rb:70:in `run_kernel'\u001b[0m",
      "\u001b[37m/Users/kurt/.rbenv/versions/2.2.3/lib/ruby/gems/2.2.0/gems/iruby-0.2.8/lib/iruby/command.rb:34:in `run'\u001b[0m",
      "\u001b[37m/Users/kurt/.rbenv/versions/2.2.3/lib/ruby/gems/2.2.0/gems/iruby-0.2.8/bin/iruby:5:in `<top (required)>'\u001b[0m",
      "\u001b[37m/Users/kurt/.rbenv/versions/2.2.3/bin/iruby:23:in `load'\u001b[0m",
      "\u001b[37m/Users/kurt/.rbenv/versions/2.2.3/bin/iruby:23:in `<main>'\u001b[0m"
     ]
    }
   ],
   "source": [
    "class File\n",
    "  class << self\n",
    "    def hoge\n",
    "      \"a\"\n",
    "    end\n",
    "  end\n",
    "end\n",
    "\n",
    "puts \"0\" * 10\n",
    "puts File.ancestors\n",
    "puts \"0\" * 10, \"\\n\"\n",
    "\n",
    "puts \"1\" * 10\n",
    "puts File.class\n",
    "puts \"1\" * 10, \"\\n\"\n",
    "\n",
    "puts \"2\" * 10\n",
    "puts File.superclass\n",
    "puts \"2\" * 10, \"\\n\"\n",
    "\n",
    "puts \"3\" * 10\n",
    "puts File.hoge.class\n",
    "puts \"3\" * 10, \"\\n\"\n",
    "\n",
    "puts \"4\" * 10\n",
    "puts File.hoge.superclass\n",
    "puts \"4\" * 10, \"\\n\"\n",
    "\n",
    "\n",
    "puts \"5\" * 10\n",
    "puts File.hoge.ancestors\n",
    "puts \"5\" * 10, \"\\n\""
   ]
  },
  {
   "cell_type": "code",
   "execution_count": 5,
   "metadata": {
    "collapsed": false
   },
   "outputs": [
    {
     "name": "stdout",
     "output_type": "stream",
     "text": [
      "0000000000\n",
      "[File, Singleton, IO, File::Constants, Enumerable, Object, PP::ObjectMixin, JSON::Ext::Generator::GeneratorMethods::Object, Kernel, BasicObject]\n",
      "0000000000\n",
      "\n",
      "\n",
      "1111111111\n",
      "Class\n",
      "1111111111\n",
      "\n",
      "\n",
      "2222222222\n",
      "IO\n",
      "2222222222\n",
      "\n",
      "\n",
      "3333333333\n",
      "Fixnum\n",
      "3333333333\n",
      "\n",
      "\n",
      "4444444444\n"
     ]
    },
    {
     "ename": "NoMethodError",
     "evalue": "undefined method `superclass' for 1:Fixnum",
     "output_type": "error",
     "traceback": [
      "\u001b[31mNoMethodError\u001b[0m: undefined method `superclass' for 1:Fixnum",
      "\u001b[37m(pry):116:in `<main>'\u001b[0m",
      "\u001b[37m/Users/kurt/.rbenv/versions/2.2.3/lib/ruby/gems/2.2.0/gems/pry-0.10.3/lib/pry/pry_instance.rb:355:in `eval'\u001b[0m",
      "\u001b[37m/Users/kurt/.rbenv/versions/2.2.3/lib/ruby/gems/2.2.0/gems/pry-0.10.3/lib/pry/pry_instance.rb:355:in `evaluate_ruby'\u001b[0m",
      "\u001b[37m/Users/kurt/.rbenv/versions/2.2.3/lib/ruby/gems/2.2.0/gems/pry-0.10.3/lib/pry/pry_instance.rb:323:in `handle_line'\u001b[0m",
      "\u001b[37m/Users/kurt/.rbenv/versions/2.2.3/lib/ruby/gems/2.2.0/gems/pry-0.10.3/lib/pry/pry_instance.rb:243:in `block (2 levels) in eval'\u001b[0m",
      "\u001b[37m/Users/kurt/.rbenv/versions/2.2.3/lib/ruby/gems/2.2.0/gems/pry-0.10.3/lib/pry/pry_instance.rb:242:in `catch'\u001b[0m",
      "\u001b[37m/Users/kurt/.rbenv/versions/2.2.3/lib/ruby/gems/2.2.0/gems/pry-0.10.3/lib/pry/pry_instance.rb:242:in `block in eval'\u001b[0m",
      "\u001b[37m/Users/kurt/.rbenv/versions/2.2.3/lib/ruby/gems/2.2.0/gems/pry-0.10.3/lib/pry/pry_instance.rb:241:in `catch'\u001b[0m",
      "\u001b[37m/Users/kurt/.rbenv/versions/2.2.3/lib/ruby/gems/2.2.0/gems/pry-0.10.3/lib/pry/pry_instance.rb:241:in `eval'\u001b[0m",
      "\u001b[37m/Users/kurt/.rbenv/versions/2.2.3/lib/ruby/gems/2.2.0/gems/iruby-0.2.8/lib/iruby/backend.rb:65:in `eval'\u001b[0m",
      "\u001b[37m/Users/kurt/.rbenv/versions/2.2.3/lib/ruby/gems/2.2.0/gems/iruby-0.2.8/lib/iruby/backend.rb:12:in `eval'\u001b[0m",
      "\u001b[37m/Users/kurt/.rbenv/versions/2.2.3/lib/ruby/gems/2.2.0/gems/iruby-0.2.8/lib/iruby/kernel.rb:87:in `execute_request'\u001b[0m",
      "\u001b[37m/Users/kurt/.rbenv/versions/2.2.3/lib/ruby/gems/2.2.0/gems/iruby-0.2.8/lib/iruby/kernel.rb:47:in `dispatch'\u001b[0m",
      "\u001b[37m/Users/kurt/.rbenv/versions/2.2.3/lib/ruby/gems/2.2.0/gems/iruby-0.2.8/lib/iruby/kernel.rb:37:in `run'\u001b[0m",
      "\u001b[37m/Users/kurt/.rbenv/versions/2.2.3/lib/ruby/gems/2.2.0/gems/iruby-0.2.8/lib/iruby/command.rb:70:in `run_kernel'\u001b[0m",
      "\u001b[37m/Users/kurt/.rbenv/versions/2.2.3/lib/ruby/gems/2.2.0/gems/iruby-0.2.8/lib/iruby/command.rb:34:in `run'\u001b[0m",
      "\u001b[37m/Users/kurt/.rbenv/versions/2.2.3/lib/ruby/gems/2.2.0/gems/iruby-0.2.8/bin/iruby:5:in `<top (required)>'\u001b[0m",
      "\u001b[37m/Users/kurt/.rbenv/versions/2.2.3/bin/iruby:23:in `load'\u001b[0m",
      "\u001b[37m/Users/kurt/.rbenv/versions/2.2.3/bin/iruby:23:in `<main>'\u001b[0m"
     ]
    }
   ],
   "source": [
    "class File\n",
    "  class << self\n",
    "    def hoge\n",
    "      1\n",
    "    end\n",
    "  end\n",
    "end\n",
    "\n",
    "puts \"0\" * 10\n",
    "puts File.ancestors\n",
    "puts \"0\" * 10, \"\\n\"\n",
    "\n",
    "puts \"1\" * 10\n",
    "puts File.class\n",
    "puts \"1\" * 10, \"\\n\"\n",
    "\n",
    "puts \"2\" * 10\n",
    "puts File.superclass\n",
    "puts \"2\" * 10, \"\\n\"\n",
    "\n",
    "puts \"3\" * 10\n",
    "puts File.hoge.class\n",
    "puts \"3\" * 10, \"\\n\"\n",
    "\n",
    "puts \"4\" * 10\n",
    "puts File.hoge.superclass\n",
    "puts \"4\" * 10, \"\\n\"\n",
    "\n",
    "\n",
    "puts \"5\" * 10\n",
    "puts File.hoge.ancestors\n",
    "puts \"5\" * 10, \"\\n\""
   ]
  },
  {
   "cell_type": "code",
   "execution_count": 6,
   "metadata": {
    "collapsed": false
   },
   "outputs": [
    {
     "name": "stdout",
     "output_type": "stream",
     "text": [
      "Fixnum\n"
     ]
    },
    {
     "ename": "NoMethodError",
     "evalue": "undefined method `superclass' for 0:Fixnum",
     "output_type": "error",
     "traceback": [
      "\u001b[31mNoMethodError\u001b[0m: undefined method `superclass' for 0:Fixnum",
      "\u001b[37m(pry):136:in `<main>'\u001b[0m",
      "\u001b[37m/Users/kurt/.rbenv/versions/2.2.3/lib/ruby/gems/2.2.0/gems/pry-0.10.3/lib/pry/pry_instance.rb:355:in `eval'\u001b[0m",
      "\u001b[37m/Users/kurt/.rbenv/versions/2.2.3/lib/ruby/gems/2.2.0/gems/pry-0.10.3/lib/pry/pry_instance.rb:355:in `evaluate_ruby'\u001b[0m",
      "\u001b[37m/Users/kurt/.rbenv/versions/2.2.3/lib/ruby/gems/2.2.0/gems/pry-0.10.3/lib/pry/pry_instance.rb:323:in `handle_line'\u001b[0m",
      "\u001b[37m/Users/kurt/.rbenv/versions/2.2.3/lib/ruby/gems/2.2.0/gems/pry-0.10.3/lib/pry/pry_instance.rb:243:in `block (2 levels) in eval'\u001b[0m",
      "\u001b[37m/Users/kurt/.rbenv/versions/2.2.3/lib/ruby/gems/2.2.0/gems/pry-0.10.3/lib/pry/pry_instance.rb:242:in `catch'\u001b[0m",
      "\u001b[37m/Users/kurt/.rbenv/versions/2.2.3/lib/ruby/gems/2.2.0/gems/pry-0.10.3/lib/pry/pry_instance.rb:242:in `block in eval'\u001b[0m",
      "\u001b[37m/Users/kurt/.rbenv/versions/2.2.3/lib/ruby/gems/2.2.0/gems/pry-0.10.3/lib/pry/pry_instance.rb:241:in `catch'\u001b[0m",
      "\u001b[37m/Users/kurt/.rbenv/versions/2.2.3/lib/ruby/gems/2.2.0/gems/pry-0.10.3/lib/pry/pry_instance.rb:241:in `eval'\u001b[0m",
      "\u001b[37m/Users/kurt/.rbenv/versions/2.2.3/lib/ruby/gems/2.2.0/gems/iruby-0.2.8/lib/iruby/backend.rb:65:in `eval'\u001b[0m",
      "\u001b[37m/Users/kurt/.rbenv/versions/2.2.3/lib/ruby/gems/2.2.0/gems/iruby-0.2.8/lib/iruby/backend.rb:12:in `eval'\u001b[0m",
      "\u001b[37m/Users/kurt/.rbenv/versions/2.2.3/lib/ruby/gems/2.2.0/gems/iruby-0.2.8/lib/iruby/kernel.rb:87:in `execute_request'\u001b[0m",
      "\u001b[37m/Users/kurt/.rbenv/versions/2.2.3/lib/ruby/gems/2.2.0/gems/iruby-0.2.8/lib/iruby/kernel.rb:47:in `dispatch'\u001b[0m",
      "\u001b[37m/Users/kurt/.rbenv/versions/2.2.3/lib/ruby/gems/2.2.0/gems/iruby-0.2.8/lib/iruby/kernel.rb:37:in `run'\u001b[0m",
      "\u001b[37m/Users/kurt/.rbenv/versions/2.2.3/lib/ruby/gems/2.2.0/gems/iruby-0.2.8/lib/iruby/command.rb:70:in `run_kernel'\u001b[0m",
      "\u001b[37m/Users/kurt/.rbenv/versions/2.2.3/lib/ruby/gems/2.2.0/gems/iruby-0.2.8/lib/iruby/command.rb:34:in `run'\u001b[0m",
      "\u001b[37m/Users/kurt/.rbenv/versions/2.2.3/lib/ruby/gems/2.2.0/gems/iruby-0.2.8/bin/iruby:5:in `<top (required)>'\u001b[0m",
      "\u001b[37m/Users/kurt/.rbenv/versions/2.2.3/bin/iruby:23:in `load'\u001b[0m",
      "\u001b[37m/Users/kurt/.rbenv/versions/2.2.3/bin/iruby:23:in `<main>'\u001b[0m"
     ]
    }
   ],
   "source": [
    "require 'singleton'\n",
    "\n",
    "class File\n",
    "  include Singleton\n",
    "  attr_accessor :counter\n",
    "\n",
    "  def initialize\n",
    "    @counter = 0  # ここのコンテキストに依存する気がする？\n",
    "  end\n",
    "end\n",
    "\n",
    "obj1 = File.instance\n",
    "puts obj1.counter.class\n",
    "puts obj1.counter.superclass"
   ]
  },
  {
   "cell_type": "markdown",
   "metadata": {},
   "source": [
    "## 参考\n",
    "* [Open Singleton Class and New scope](https://gist.github.com/jamesyang124/9216074)\n",
    "* [module Singleton](http://docs.ruby-lang.org/ja/2.2.0/class/Singleton.html)"
   ]
  }
 ],
 "metadata": {
  "kernelspec": {
   "display_name": "Ruby 2.2.3",
   "language": "ruby",
   "name": "ruby"
  },
  "language_info": {
   "file_extension": ".rb",
   "mimetype": "application/x-ruby",
   "name": "ruby",
   "version": "2.2.3"
  }
 },
 "nbformat": 4,
 "nbformat_minor": 0
}
